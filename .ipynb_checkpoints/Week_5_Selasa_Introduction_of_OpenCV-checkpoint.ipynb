{
 "cells": [
  {
   "cell_type": "markdown",
   "metadata": {
    "id": "WpVL8eEGh9Vk"
   },
   "source": [
    "# **Open CV Intro**"
   ]
  },
  {
   "cell_type": "markdown",
   "metadata": {
    "id": "Dbx7TLU8iqO6"
   },
   "source": [
    "**Instal Package** \n",
    "\n",
    "*   OpenCV     : pip install opencv-python\n",
    "\n"
   ]
  },
  {
   "cell_type": "markdown",
   "metadata": {
    "id": "F4lc-W0QiGaa"
   },
   "source": [
    "**Support**\n",
    "\n",
    "*   Programming Language : C++, Python, Java, MATLAB, etc.\n",
    "*   Operating Systems : Windows, Linux, Android and Mac OS \n",
    "*   Hardware Acceleration : CUDA (NVIDIA) & OpenCL\n",
    "\n",
    "\n",
    "\n",
    "\n",
    "\n",
    "\n"
   ]
  },
  {
   "cell_type": "markdown",
   "metadata": {
    "id": "PCwjaJJsjT72"
   },
   "source": [
    "**Citra Digital**\n",
    "\n",
    "\n",
    "*   Citra digital (umumnya) terdiri dari 3 layer (channel) warna R, G & B.\n",
    "*   Tiap layer memiliki tinggi dan lebar citra yang sama.\n",
    "*   Tiap titik pada layer memiliki nilai 8bit (0 - 255) yag di sebut pixel.\n",
    "\n",
    "\n",
    "\n",
    "\n",
    "\n",
    "\n"
   ]
  },
  {
   "cell_type": "markdown",
   "metadata": {
    "id": "CC4MwUO8wWkQ"
   },
   "source": [
    "**Import Library**"
   ]
  },
  {
   "cell_type": "code",
   "execution_count": null,
   "metadata": {
    "id": "iTuAvzc6wFXq"
   },
   "outputs": [],
   "source": [
    "import cv2\n",
    "import matplotlib.pyplot as plt\n",
    "import numpy as np\n",
    "import os\n",
    "\n",
    "%matplotlib inline"
   ]
  },
  {
   "cell_type": "code",
   "execution_count": null,
   "metadata": {
    "id": "2YtadZQ-jtTb"
   },
   "outputs": [],
   "source": [
    "cv2.__version__"
   ]
  },
  {
   "cell_type": "markdown",
   "metadata": {
    "id": "gimwsRoIwyq3"
   },
   "source": [
    "# ***Traditional Image Processing by cv2***\n",
    "1. Cropping\n",
    "2. Rotation\n",
    "3. Translation\n",
    "4. Resizing\n",
    "5. Flipping\n",
    "6. Padding\n",
    "7. Split color channel"
   ]
  },
  {
   "cell_type": "code",
   "execution_count": null,
   "metadata": {
    "id": "YcC3DjZQw0Wf"
   },
   "outputs": [],
   "source": [
    "circles = cv2.imread(\"circles.png\")\n",
    "plt.imshow(circles)\n",
    "plt.show()"
   ]
  },
  {
   "cell_type": "code",
   "execution_count": null,
   "metadata": {
    "id": "EP7wyopMj5fA"
   },
   "outputs": [],
   "source": [
    "type(circles)"
   ]
  },
  {
   "cell_type": "code",
   "execution_count": null,
   "metadata": {
    "id": "BBbdDudJkDTS"
   },
   "outputs": [],
   "source": [
    "circles.shape"
   ]
  },
  {
   "cell_type": "code",
   "execution_count": null,
   "metadata": {
    "id": "JahpY7Wyk55E"
   },
   "outputs": [],
   "source": [
    "h, w, c = circles.shape\n",
    "h, w, c"
   ]
  },
  {
   "cell_type": "code",
   "execution_count": null,
   "metadata": {
    "id": "MI7c1kwBlDzq"
   },
   "outputs": [],
   "source": [
    "os.path.getsize(\"circles.png\")/1024"
   ]
  },
  {
   "cell_type": "markdown",
   "metadata": {
    "id": "Xo_DnKwNpQfb"
   },
   "source": [
    "**Akses Gambar Per Channel**"
   ]
  },
  {
   "cell_type": "code",
   "execution_count": null,
   "metadata": {
    "id": "li_PYgMVpUgT"
   },
   "outputs": [],
   "source": [
    "circles[:, :, 0].shape # layer 0 (Blue)"
   ]
  },
  {
   "cell_type": "code",
   "execution_count": null,
   "metadata": {
    "id": "8xy6m9tjpbzL"
   },
   "outputs": [],
   "source": [
    "circles[:, :, 1].shape # layer 1 (Green)"
   ]
  },
  {
   "cell_type": "code",
   "execution_count": null,
   "metadata": {
    "id": "KfIxCMqNpgpC"
   },
   "outputs": [],
   "source": [
    "circles[:, :, 2].shape # layer 2 (Red)"
   ]
  },
  {
   "cell_type": "markdown",
   "metadata": {
    "id": "fr57vzhcp3Ae"
   },
   "source": [
    "**Akses Individual Pixel**"
   ]
  },
  {
   "cell_type": "code",
   "execution_count": null,
   "metadata": {
    "id": "XUxDYfzQp727"
   },
   "outputs": [],
   "source": [
    "circles[0, 0]"
   ]
  },
  {
   "cell_type": "code",
   "execution_count": null,
   "metadata": {
    "id": "GXZsDQyjqCdS"
   },
   "outputs": [],
   "source": [
    "(B, G, R) = circles[200, 200]\n",
    "print(\"R=%d, G=%d, B=%d\" % (R, G, B))"
   ]
  },
  {
   "cell_type": "markdown",
   "metadata": {
    "id": "HOzWQB4Dxfnn"
   },
   "source": [
    "# 1.Image Cropping"
   ]
  },
  {
   "cell_type": "code",
   "execution_count": null,
   "metadata": {
    "id": "BxmnazZQxbmn"
   },
   "outputs": [],
   "source": [
    "patch = (300, 200)\n",
    "center = (190, 220)\n",
    "cropped_image = cv2.getRectSubPix(circles, patch, center)\n",
    "plt.imshow(cropped_image)\n",
    "plt.show()"
   ]
  },
  {
   "cell_type": "code",
   "execution_count": null,
   "metadata": {
    "id": "RpG9hyrgxdC_"
   },
   "outputs": [],
   "source": [
    "def crop(img, center, width, height):\n",
    "    return cv2.getRectSubPix(img, (width, height), center)"
   ]
  },
  {
   "cell_type": "code",
   "execution_count": null,
   "metadata": {
    "id": "L9UM2ar_xsZ_"
   },
   "outputs": [],
   "source": [
    "cropped = crop(circles, center=(190, 220), width=300, height=200)\n",
    "plt.imshow(cropped)\n",
    "plt.show()"
   ]
  },
  {
   "cell_type": "markdown",
   "metadata": {
    "id": "x6_1yVwAxv6Y"
   },
   "source": [
    "# **2. Rotation-cv2.warpAffine**\n",
    "- get the transform matrix with `cv2.getRotationMatrix2D`\n",
    "- params to `cv2.getRotationMatrix2D`: center, angle(+ -> counterclockwise), scale"
   ]
  },
  {
   "cell_type": "code",
   "execution_count": null,
   "metadata": {
    "id": "7LRJiekCxw4v"
   },
   "outputs": [],
   "source": [
    "cat = cv2.imread(\"cat.jpg\")\n",
    "center = cat.shape[1]/2, cat.shape[0]/2\n",
    "angle = 30\n",
    "scale = 1.0\n",
    "\n",
    "M = cv2.getRotationMatrix2D(center, angle, scale)\n",
    "\n",
    "rotated_cat = cv2.warpAffine(cat, M, (int(cat.shape[1]*1.3), int(cat.shape[0]*1.3)), borderValue=(255, 255, 255))\n",
    "plt.imshow(cat)\n",
    "plt.figure()\n",
    "plt.imshow(rotated_cat)"
   ]
  },
  {
   "cell_type": "markdown",
   "metadata": {
    "id": "bo6bWhFtyEto"
   },
   "source": [
    "### rotation function"
   ]
  },
  {
   "cell_type": "markdown",
   "metadata": {
    "id": "ESEKQG0yyOhP"
   },
   "source": [
    "# **3. Translation - cv.warpAffine**\n",
    "- params: img, transMatrix, dsize (dest image size)\n",
    "- transMatrix M should always be np.asarray([[1., 0., tx], [0., 1., ty]]), where tx and ty are offset on x and y (-x -> left, -y -> up). And it must be a float matrix\n",
    "- dsize should most of time be (src_img.shape[1], src_img.shape[0]), which are WIDTH and HEIGHT of images (in image domain instead of ndarray domain)"
   ]
  },
  {
   "cell_type": "code",
   "execution_count": null,
   "metadata": {
    "id": "iU3EFUaNyOCv"
   },
   "outputs": [],
   "source": [
    "cat = cv2.imread(\"cat.jpg\")\n",
    "shifted_cat = cv2.warpAffine(cat, \n",
    "               np.array([[1, 0, 30], \n",
    "                        [0, 1, 100]], \n",
    "                dtype = np.float),\n",
    "               dsize = (cat.shape[1], cat.shape[0])) # right down shift\n",
    "\n",
    "plt.imshow(cat)\n",
    "plt.figure()\n",
    "plt.imshow(shifted_cat)"
   ]
  },
  {
   "cell_type": "markdown",
   "metadata": {
    "id": "ox6SvchfytXo"
   },
   "source": [
    "# **4. Resizing - cv2.resize**\n",
    "- it is aspect-ratio (width/height) constant resize \n",
    "- params to cv2.resize: img, (with, height) of dest, interpolation_method, cv2.INTER_XX, e.g., cv2.INTER_AREA\n",
    "- you can also do it via rotation and warpAffine, but the effects are very different - in terms of the dimension of the resulted arrays"
   ]
  },
  {
   "cell_type": "code",
   "execution_count": null,
   "metadata": {
    "id": "_JMQLfNQyjDQ"
   },
   "outputs": [],
   "source": [
    "cat = cv2.imread(\"cat.jpg\")\n",
    "width, height = int(cat.shape[1]*0.3), int(cat.shape[0]*0.3)\n",
    "resized_cat = cv2.resize(cat, \n",
    "                          (width, height), \n",
    "                          interpolation = cv2.INTER_AREA,)\n",
    "plt.imshow(cat)\n",
    "plt.figure(figsize = (1.5, 1.5))\n",
    "plt.imshow(resized_cat)\n",
    "print(resized_cat.shape)"
   ]
  },
  {
   "cell_type": "markdown",
   "metadata": {
    "id": "cn5OqlZzzGjP"
   },
   "source": [
    "# **5. Flipping**"
   ]
  },
  {
   "cell_type": "code",
   "execution_count": null,
   "metadata": {
    "id": "yGEp21dEzIxn"
   },
   "outputs": [],
   "source": [
    "cat = cv2.imread(\"cat.jpg\")\n",
    "fig, axes = plt.subplots(2, 2, figsize = (8, 8))\n",
    "\n",
    "fig.tight_layout()\n",
    "\n",
    "axes = axes.ravel()\n",
    "axes[0].imshow(cat)\n",
    "axes[1].imshow(cat[:, ::-1, :])\n",
    "axes[2].imshow(cat[::-1, :, :])\n",
    "axes[3].imshow(cat[::-1, ::-1, :])"
   ]
  },
  {
   "cell_type": "markdown",
   "metadata": {
    "id": "kHcSbZP1zU3f"
   },
   "source": [
    "# 6. Padding"
   ]
  },
  {
   "cell_type": "code",
   "execution_count": null,
   "metadata": {
    "id": "j4U30sRhzTMn"
   },
   "outputs": [],
   "source": [
    "img = cv2.imread('cat.jpg')\n",
    "bordersize = 100\n",
    "color = [255, 255, 255]\n",
    "bordered_img=cv2.copyMakeBorder(img, \n",
    "                                top=bordersize,bottom=bordersize, \n",
    "                                left=bordersize, right=bordersize, \n",
    "                                borderType= cv2.BORDER_CONSTANT, \n",
    "                                value=color )\n",
    "#cv2.circle(bordered_img, (300, 320), radius = 10, color = [255, 0 ,0])\n",
    "plt.imshow(bordered_img)\n",
    "plt.show()"
   ]
  },
  {
   "cell_type": "markdown",
   "metadata": {
    "id": "HCPM5zcxz4Fn"
   },
   "source": [
    "# ***7. Split Color Channels***\n",
    "- using cv2.split and cv2.merge needs to stick with (BGR) channel encoding, which might be more troublesome"
   ]
  },
  {
   "cell_type": "code",
   "execution_count": null,
   "metadata": {
    "id": "IUeD8d_RzoA4"
   },
   "outputs": [],
   "source": [
    "wave = cv2.imread(\"circles.png\")\n",
    "fig, axes = plt.subplots(2, 2, figsize = (8, 8))\n",
    "axes = axes.ravel()\n",
    "\n",
    "fig.tight_layout()\n",
    "axes[0].imshow(wave)\n",
    "axes[0].set_title(\"original\")\n",
    "axes[1].imshow(wave[:, :, 0], cmap = plt.cm.gray)\n",
    "axes[1].set_title(\"red\")\n",
    "axes[2].imshow(wave[:, :, 1], cmap = plt.cm.gray)\n",
    "axes[2].set_title(\"green\")\n",
    "axes[3].imshow(wave[:, :, 2], cmap = plt.cm.gray)\n",
    "axes[3].set_title(\"blue\")"
   ]
  }
 ],
 "metadata": {
  "colab": {
   "collapsed_sections": [],
   "name": "Week 5 - Selasa - Introduction of OpenCV.ipynb",
   "provenance": []
  },
  "kernelspec": {
   "display_name": "Python 3",
   "language": "python",
   "name": "python3"
  },
  "language_info": {
   "codemirror_mode": {
    "name": "ipython",
    "version": 3
   },
   "file_extension": ".py",
   "mimetype": "text/x-python",
   "name": "python",
   "nbconvert_exporter": "python",
   "pygments_lexer": "ipython3",
   "version": "3.8.8"
  }
 },
 "nbformat": 4,
 "nbformat_minor": 1
}
