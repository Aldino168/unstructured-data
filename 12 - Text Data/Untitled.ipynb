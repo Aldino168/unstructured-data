{
 "cells": [
  {
   "cell_type": "code",
   "execution_count": 1,
   "id": "5e104273",
   "metadata": {},
   "outputs": [],
   "source": [
    "import pandas as pd\n",
    "import numpy as np"
   ]
  },
  {
   "cell_type": "code",
   "execution_count": 1,
   "id": "84cfd9bb",
   "metadata": {},
   "outputs": [],
   "source": [
    "from jcopml.tuning import random_search_params as rsp"
   ]
  },
  {
   "cell_type": "code",
   "execution_count": 2,
   "id": "a0692472",
   "metadata": {
    "scrolled": true
   },
   "outputs": [
    {
     "data": {
      "text/plain": [
       "{'algo__n_estimators': Integer(low=100, high=200),\n",
       " 'algo__max_depth': Integer(low=20, high=80),\n",
       " 'algo__max_features': Real(low=0.1, high=1, prior='uniform'),\n",
       " 'algo__min_samples_leaf': Integer(low=1, high=20)}"
      ]
     },
     "execution_count": 2,
     "metadata": {},
     "output_type": "execute_result"
    }
   ],
   "source": [
    "rsp.rf_params"
   ]
  },
  {
   "cell_type": "code",
   "execution_count": 3,
   "id": "13cbe31e",
   "metadata": {},
   "outputs": [
    {
     "data": {
      "text/plain": [
       "{'algo__gamma': Real(low=-3, high=3, prior='log-uniform'),\n",
       " 'algo__C': Real(low=-3, high=3, prior='log-uniform')}"
      ]
     },
     "execution_count": 3,
     "metadata": {},
     "output_type": "execute_result"
    }
   ],
   "source": [
    "rsp.svm_params"
   ]
  },
  {
   "cell_type": "code",
   "execution_count": 23,
   "id": "c34076ef",
   "metadata": {
    "scrolled": false
   },
   "outputs": [
    {
     "data": {
      "text/html": [
       "<div>\n",
       "<style scoped>\n",
       "    .dataframe tbody tr th:only-of-type {\n",
       "        vertical-align: middle;\n",
       "    }\n",
       "\n",
       "    .dataframe tbody tr th {\n",
       "        vertical-align: top;\n",
       "    }\n",
       "\n",
       "    .dataframe thead th {\n",
       "        text-align: right;\n",
       "    }\n",
       "</style>\n",
       "<table border=\"1\" class=\"dataframe\">\n",
       "  <thead>\n",
       "    <tr style=\"text-align: right;\">\n",
       "      <th></th>\n",
       "      <th>Unnamed: 0</th>\n",
       "      <th>rating</th>\n",
       "      <th>reviewContent</th>\n",
       "      <th>teks_setelah_prep</th>\n",
       "    </tr>\n",
       "  </thead>\n",
       "  <tbody>\n",
       "    <tr>\n",
       "      <th>0</th>\n",
       "      <td>0</td>\n",
       "      <td>5</td>\n",
       "      <td>bagus  mantap dah sesui pesanan</td>\n",
       "      <td>bagus mantap sesui pesan</td>\n",
       "    </tr>\n",
       "    <tr>\n",
       "      <th>1</th>\n",
       "      <td>1</td>\n",
       "      <td>4</td>\n",
       "      <td>Bagus, sesuai foto</td>\n",
       "      <td>bagus sesuai foto</td>\n",
       "    </tr>\n",
       "    <tr>\n",
       "      <th>2</th>\n",
       "      <td>2</td>\n",
       "      <td>5</td>\n",
       "      <td>okkkkk mantaaaaaaapppp ... goood</td>\n",
       "      <td>okkkkk mantaaaaaaapppp goood</td>\n",
       "    </tr>\n",
       "    <tr>\n",
       "      <th>3</th>\n",
       "      <td>3</td>\n",
       "      <td>4</td>\n",
       "      <td>bagus sesuai</td>\n",
       "      <td>bagus sesuai</td>\n",
       "    </tr>\n",
       "    <tr>\n",
       "      <th>4</th>\n",
       "      <td>7</td>\n",
       "      <td>1</td>\n",
       "      <td>bima</td>\n",
       "      <td>bima</td>\n",
       "    </tr>\n",
       "  </tbody>\n",
       "</table>\n",
       "</div>"
      ],
      "text/plain": [
       "   Unnamed: 0  rating                     reviewContent  \\\n",
       "0           0       5   bagus  mantap dah sesui pesanan   \n",
       "1           1       4                Bagus, sesuai foto   \n",
       "2           2       5  okkkkk mantaaaaaaapppp ... goood   \n",
       "3           3       4                      bagus sesuai   \n",
       "4           7       1                              bima   \n",
       "\n",
       "              teks_setelah_prep  \n",
       "0      bagus mantap sesui pesan  \n",
       "1             bagus sesuai foto  \n",
       "2  okkkkk mantaaaaaaapppp goood  \n",
       "3                  bagus sesuai  \n",
       "4                          bima  "
      ]
     },
     "execution_count": 23,
     "metadata": {},
     "output_type": "execute_result"
    }
   ],
   "source": [
    "df = pd.read_csv(\"data/data_teks_prep\")\n",
    "df.head()"
   ]
  },
  {
   "cell_type": "code",
   "execution_count": null,
   "id": "7e3e109b",
   "metadata": {},
   "outputs": [],
   "source": [
    "pd.cut(df.rating, bins = [])"
   ]
  },
  {
   "cell_type": "code",
   "execution_count": 24,
   "id": "a97508cb",
   "metadata": {},
   "outputs": [
    {
     "name": "stdout",
     "output_type": "stream",
     "text": [
      "<class 'pandas.core.frame.DataFrame'>\n",
      "RangeIndex: 107029 entries, 0 to 107028\n",
      "Data columns (total 4 columns):\n",
      " #   Column             Non-Null Count   Dtype \n",
      "---  ------             --------------   ----- \n",
      " 0   Unnamed: 0         107029 non-null  int64 \n",
      " 1   rating             107029 non-null  int64 \n",
      " 2   reviewContent      107029 non-null  object\n",
      " 3   teks_setelah_prep  106455 non-null  object\n",
      "dtypes: int64(2), object(2)\n",
      "memory usage: 3.3+ MB\n"
     ]
    }
   ],
   "source": [
    "df.info()"
   ]
  },
  {
   "cell_type": "code",
   "execution_count": 25,
   "id": "27cf6365",
   "metadata": {},
   "outputs": [],
   "source": [
    "df['rating'] = df.rating.map({5:'baik', 4:\"baik\", 3:\"netral\", 2: 'jelek', 1:\"jelek\"})"
   ]
  },
  {
   "cell_type": "code",
   "execution_count": 33,
   "id": "80d7ad0c",
   "metadata": {
    "scrolled": false
   },
   "outputs": [
    {
     "data": {
      "text/html": [
       "<div>\n",
       "<style scoped>\n",
       "    .dataframe tbody tr th:only-of-type {\n",
       "        vertical-align: middle;\n",
       "    }\n",
       "\n",
       "    .dataframe tbody tr th {\n",
       "        vertical-align: top;\n",
       "    }\n",
       "\n",
       "    .dataframe thead th {\n",
       "        text-align: right;\n",
       "    }\n",
       "</style>\n",
       "<table border=\"1\" class=\"dataframe\">\n",
       "  <thead>\n",
       "    <tr style=\"text-align: right;\">\n",
       "      <th></th>\n",
       "      <th>rating</th>\n",
       "      <th>reviewContent</th>\n",
       "      <th>teks_setelah_prep</th>\n",
       "    </tr>\n",
       "  </thead>\n",
       "  <tbody>\n",
       "    <tr>\n",
       "      <th>0</th>\n",
       "      <td>baik</td>\n",
       "      <td>bagus  mantap dah sesui pesanan</td>\n",
       "      <td>bagus mantap sesui pesan</td>\n",
       "    </tr>\n",
       "    <tr>\n",
       "      <th>1</th>\n",
       "      <td>baik</td>\n",
       "      <td>Bagus, sesuai foto</td>\n",
       "      <td>bagus sesuai foto</td>\n",
       "    </tr>\n",
       "    <tr>\n",
       "      <th>2</th>\n",
       "      <td>baik</td>\n",
       "      <td>okkkkk mantaaaaaaapppp ... goood</td>\n",
       "      <td>okkkkk mantaaaaaaapppp goood</td>\n",
       "    </tr>\n",
       "    <tr>\n",
       "      <th>3</th>\n",
       "      <td>baik</td>\n",
       "      <td>bagus sesuai</td>\n",
       "      <td>bagus sesuai</td>\n",
       "    </tr>\n",
       "    <tr>\n",
       "      <th>4</th>\n",
       "      <td>jelek</td>\n",
       "      <td>bima</td>\n",
       "      <td>bima</td>\n",
       "    </tr>\n",
       "  </tbody>\n",
       "</table>\n",
       "</div>"
      ],
      "text/plain": [
       "  rating                     reviewContent             teks_setelah_prep\n",
       "0   baik   bagus  mantap dah sesui pesanan      bagus mantap sesui pesan\n",
       "1   baik                Bagus, sesuai foto             bagus sesuai foto\n",
       "2   baik  okkkkk mantaaaaaaapppp ... goood  okkkkk mantaaaaaaapppp goood\n",
       "3   baik                      bagus sesuai                  bagus sesuai\n",
       "4  jelek                              bima                          bima"
      ]
     },
     "execution_count": 33,
     "metadata": {},
     "output_type": "execute_result"
    }
   ],
   "source": [
    "df.head()"
   ]
  },
  {
   "cell_type": "code",
   "execution_count": 32,
   "id": "6619fef6",
   "metadata": {},
   "outputs": [
    {
     "data": {
      "text/plain": [
       "Index(['rating', 'reviewContent', 'teks_setelah_prep'], dtype='object')"
      ]
     },
     "execution_count": 32,
     "metadata": {},
     "output_type": "execute_result"
    }
   ],
   "source": [
    "df.columns"
   ]
  },
  {
   "cell_type": "code",
   "execution_count": 31,
   "id": "6f40e8ca",
   "metadata": {},
   "outputs": [],
   "source": [
    "df.drop(columns='Unnamed: 0', inplace=True)"
   ]
  },
  {
   "cell_type": "code",
   "execution_count": 9,
   "id": "43fba4fa",
   "metadata": {},
   "outputs": [
    {
     "data": {
      "text/plain": [
       "{(5, 4): 'baik', 3: 'netral', (2, 1): 'jelek'}"
      ]
     },
     "execution_count": 9,
     "metadata": {},
     "output_type": "execute_result"
    }
   ],
   "source": []
  },
  {
   "cell_type": "code",
   "execution_count": 34,
   "id": "375caf1f",
   "metadata": {},
   "outputs": [],
   "source": [
    "import pickle"
   ]
  },
  {
   "cell_type": "code",
   "execution_count": 38,
   "id": "0c4b71b4",
   "metadata": {},
   "outputs": [],
   "source": [
    "modelyangdisimpan=pickle.load(open(\"file model/tfidf.pkl\",\"rb\")) #rb= read binary`b"
   ]
  },
  {
   "cell_type": "code",
   "execution_count": 44,
   "id": "b1f0d212",
   "metadata": {},
   "outputs": [
    {
     "data": {
      "text/plain": [
       "(4970, 21547)"
      ]
     },
     "execution_count": 44,
     "metadata": {},
     "output_type": "execute_result"
    }
   ],
   "source": [
    "X = modelyangdisimpan.toarray()\n",
    "X.shape"
   ]
  }
 ],
 "metadata": {
  "kernelspec": {
   "display_name": "Python 3",
   "language": "python",
   "name": "python3"
  },
  "language_info": {
   "codemirror_mode": {
    "name": "ipython",
    "version": 3
   },
   "file_extension": ".py",
   "mimetype": "text/x-python",
   "name": "python",
   "nbconvert_exporter": "python",
   "pygments_lexer": "ipython3",
   "version": "3.8.8"
  }
 },
 "nbformat": 4,
 "nbformat_minor": 5
}
